{
 "cells": [
  {
   "cell_type": "markdown",
   "id": "91a4f323",
   "metadata": {},
   "source": [
    "import keras"
   ]
  },
  {
   "cell_type": "markdown",
   "id": "e26c9725",
   "metadata": {},
   "source": [
    "from keras.models import Sequential"
   ]
  },
  {
   "cell_type": "markdown",
   "id": "ee83ffa8",
   "metadata": {},
   "source": [
    "model = Sequential()"
   ]
  },
  {
   "cell_type": "markdown",
   "id": "8b000694",
   "metadata": {},
   "source": [
    "from keras.layer import Dense"
   ]
  },
  {
   "cell_type": "markdown",
   "id": "67e786a2",
   "metadata": {},
   "source": [
    "n_cols = concrete_data.shape[1]"
   ]
  },
  {
   "cell_type": "markdown",
   "id": "3228186e",
   "metadata": {},
   "source": [
    "model.add(Dense(5, activation='ReLu', input_shape=(n_cols,)))\n",
    "model.add(Dense(5, activation=\"Relu\"))\n",
    "model.add(Dense(1))"
   ]
  },
  {
   "cell_type": "code",
   "execution_count": 1,
   "id": "a560f777",
   "metadata": {},
   "outputs": [
    {
     "data": {
      "text/plain": [
       "0.41500000000000004"
      ]
     },
     "execution_count": 1,
     "metadata": {},
     "output_type": "execute_result"
    }
   ],
   "source": [
    "x_1 = 0.1\n",
    "w_1 = 0.15\n",
    "b_1 = 0.40\n",
    "w_2 = 0.45\n",
    "b_2 = 0.65\n",
    "z_1 = x_1 * w_1 + b_1\n",
    "z_1"
   ]
  },
  {
   "cell_type": "code",
   "execution_count": null,
   "id": "3c8d0d00",
   "metadata": {},
   "outputs": [],
   "source": []
  },
  {
   "cell_type": "code",
   "execution_count": 2,
   "id": "ed0f9a8a",
   "metadata": {},
   "outputs": [],
   "source": [
    "import statistics\n",
    "import math\n",
    "from statistics import exp"
   ]
  },
  {
   "cell_type": "code",
   "execution_count": 3,
   "id": "2b4fb25b",
   "metadata": {},
   "outputs": [
    {
     "data": {
      "text/plain": [
       "0.6022861768886306"
      ]
     },
     "execution_count": 3,
     "metadata": {},
     "output_type": "execute_result"
    }
   ],
   "source": [
    "#Find the output using Sigmoid Function\n",
    "a_1 = 1/(1+exp(-z_1))\n",
    "a_1"
   ]
  },
  {
   "cell_type": "code",
   "execution_count": 4,
   "id": "50a351e3",
   "metadata": {},
   "outputs": [
    {
     "data": {
      "text/plain": [
       "0.9210287795998838"
      ]
     },
     "execution_count": 4,
     "metadata": {},
     "output_type": "execute_result"
    }
   ],
   "source": [
    "z_2 = a_1 * w_2 + b_2\n",
    "z_2"
   ]
  },
  {
   "cell_type": "code",
   "execution_count": 5,
   "id": "5fe4de93",
   "metadata": {},
   "outputs": [
    {
     "data": {
      "text/plain": [
       "0.7152516802527555"
      ]
     },
     "execution_count": 5,
     "metadata": {},
     "output_type": "execute_result"
    }
   ],
   "source": [
    "#Find the ouput using sigmoid function\n",
    "a_2 = 1/(1+exp(-z_2))\n",
    "a_2"
   ]
  },
  {
   "cell_type": "code",
   "execution_count": 6,
   "id": "a57d63e3",
   "metadata": {},
   "outputs": [
    {
     "data": {
      "text/plain": [
       "(0.41500000000000004,\n",
       " 0.6022861768886306,\n",
       " 0.9210287795998838,\n",
       " 0.7152516802527555)"
      ]
     },
     "execution_count": 6,
     "metadata": {},
     "output_type": "execute_result"
    }
   ],
   "source": [
    "z_1,a_1,z_2,a_2"
   ]
  },
  {
   "cell_type": "code",
   "execution_count": 7,
   "id": "b65ba9c3",
   "metadata": {},
   "outputs": [],
   "source": [
    "T = 0.25\n",
    "epochs = 1000\n",
    "nu = 0.4\n",
    "Ee= 0.001"
   ]
  },
  {
   "cell_type": "code",
   "execution_count": 8,
   "id": "278947ec",
   "metadata": {},
   "outputs": [],
   "source": [
    "import numpy as np"
   ]
  },
  {
   "cell_type": "code",
   "execution_count": 9,
   "id": "2ab01c57",
   "metadata": {},
   "outputs": [
    {
     "data": {
      "text/plain": [
       "0.10822956298900614"
      ]
     },
     "execution_count": 9,
     "metadata": {},
     "output_type": "execute_result"
    }
   ],
   "source": [
    "E = 1/2*((T-a_2)**2)\n",
    "E"
   ]
  },
  {
   "cell_type": "code",
   "execution_count": 10,
   "id": "d5ebe5f6",
   "metadata": {},
   "outputs": [
    {
     "data": {
      "text/plain": [
       "0.42717184071957803"
      ]
     },
     "execution_count": 10,
     "metadata": {},
     "output_type": "execute_result"
    }
   ],
   "source": [
    "#Uodate w_2 \n",
    "w_2_2 = w_2 - nu * (a_2 - T) * (a_2 - (a_2)**2) * a_1\n",
    "w_2_2"
   ]
  },
  {
   "cell_type": "code",
   "execution_count": 11,
   "id": "2d291a66",
   "metadata": {},
   "outputs": [
    {
     "data": {
      "text/plain": [
       "0.6120974876123662"
      ]
     },
     "execution_count": 11,
     "metadata": {},
     "output_type": "execute_result"
    }
   ],
   "source": [
    "#Uodate b_2 \n",
    "b_2_2 = b_2 - nu * (a_2 - T) * (a_2 - (a_2)**2) * 1\n",
    "b_2_2"
   ]
  },
  {
   "cell_type": "code",
   "execution_count": 12,
   "id": "92264ded",
   "metadata": {},
   "outputs": [
    {
     "data": {
      "text/plain": [
       "0.14959144164740945"
      ]
     },
     "execution_count": 12,
     "metadata": {},
     "output_type": "execute_result"
    }
   ],
   "source": [
    "#Uodate w_1\n",
    "w_1_1 = w_1 - nu * (a_2 - T) * (a_2 - (a_2)**2) * w_2 * (a_1 - (a_1)**2) * x_1\n",
    "w_1_1"
   ]
  },
  {
   "cell_type": "code",
   "execution_count": 13,
   "id": "52cf48e5",
   "metadata": {},
   "outputs": [
    {
     "data": {
      "text/plain": [
       "0.39591441647409464"
      ]
     },
     "execution_count": 13,
     "metadata": {},
     "output_type": "execute_result"
    }
   ],
   "source": [
    "#Update b_1 \n",
    "b_1_1 = b_1 - nu * (a_2 - T) * (a_2 - (a_2)**2) * w_2 * (a_1 - (a_1)**2) * 1\n",
    "b_1_1"
   ]
  },
  {
   "cell_type": "code",
   "execution_count": 14,
   "id": "58514c85",
   "metadata": {},
   "outputs": [
    {
     "name": "stdout",
     "output_type": "stream",
     "text": [
      "The update of w_1 is : 0.14959144164740945 \n",
      " The update of w_2 is : 0.42717184071957803 \n",
      " The update of b_1 is : 0.39591441647409464 \n",
      " The update of b_2 is : 0.6120974876123662\n"
     ]
    }
   ],
   "source": [
    "#All the update points\n",
    "print(\"The update of w_1 is :\", w_1_1,\"\\n\",\"The update of w_2 is :\", w_2_2,\"\\n\",\"The update of b_1 is :\",b_1_1,\"\\n\",\"The update of b_2 is :\",b_2_2)"
   ]
  },
  {
   "cell_type": "code",
   "execution_count": null,
   "id": "ee47ad27",
   "metadata": {},
   "outputs": [],
   "source": []
  },
  {
   "cell_type": "code",
   "execution_count": null,
   "id": "cc3f410c",
   "metadata": {},
   "outputs": [],
   "source": []
  },
  {
   "cell_type": "code",
   "execution_count": 15,
   "id": "bb3593f6",
   "metadata": {},
   "outputs": [
    {
     "data": {
      "text/plain": [
       "0.3927098596476683"
      ]
     },
     "execution_count": 15,
     "metadata": {},
     "output_type": "execute_result"
    }
   ],
   "source": [
    "#Find the output using hyperbolic tangente function\n",
    "a_22 = ((exp(z_1)) - (exp(-z_1))) / ((exp(z_1)) + (exp(- z_1)))\n",
    "a_22"
   ]
  },
  {
   "cell_type": "code",
   "execution_count": 16,
   "id": "e0c1e111",
   "metadata": {},
   "outputs": [
    {
     "data": {
      "text/plain": [
       "0.41500000000000004"
      ]
     },
     "execution_count": 16,
     "metadata": {},
     "output_type": "execute_result"
    }
   ],
   "source": [
    "#Find the ouput using ReLu function\n",
    "a_23 = max(0, z_1)\n",
    "a_23"
   ]
  },
  {
   "cell_type": "code",
   "execution_count": null,
   "id": "1c9ace00",
   "metadata": {},
   "outputs": [],
   "source": []
  },
  {
   "cell_type": "code",
   "execution_count": 17,
   "id": "211ad772",
   "metadata": {},
   "outputs": [
    {
     "data": {
      "text/plain": [
       "0.5664790559676278"
      ]
     },
     "execution_count": 17,
     "metadata": {},
     "output_type": "execute_result"
    }
   ],
   "source": [
    "z_t = 0.2675\n",
    "a_t = 1/(1+exp(-z_t))\n",
    "a_t"
   ]
  },
  {
   "cell_type": "code",
   "execution_count": 18,
   "id": "2b367691",
   "metadata": {},
   "outputs": [
    {
     "data": {
      "text/plain": [
       "0.51"
      ]
     },
     "execution_count": 18,
     "metadata": {},
     "output_type": "execute_result"
    }
   ],
   "source": [
    "xx_1 = 0.25\n",
    "ww_1 = 0.15\n",
    "ww_3 = 0.25\n",
    "ww_4 = 0.55\n",
    "xx_2 = 0.05\n",
    "ww_2 = 0.45\n",
    "bb_1 = 0.45\n",
    "bb_2 = 0.25\n",
    "ww_5 = 0.50\n",
    "ww_6 = 0.60\n",
    "\n",
    "zz_1 = xx_1 * ww_1 + xx_2 * ww_2 + bb_1\n",
    "zz_1"
   ]
  },
  {
   "cell_type": "code",
   "execution_count": 19,
   "id": "dc99fc90",
   "metadata": {},
   "outputs": [
    {
     "data": {
      "text/plain": [
       "0.54"
      ]
     },
     "execution_count": 19,
     "metadata": {},
     "output_type": "execute_result"
    }
   ],
   "source": [
    "z_1_2 = xx_1 * ww_3 + xx_2 * ww_4 + bb_1\n",
    "z_1_2"
   ]
  },
  {
   "cell_type": "code",
   "execution_count": 20,
   "id": "a9cb5dfe",
   "metadata": {
    "scrolled": true
   },
   "outputs": [
    {
     "data": {
      "text/plain": [
       "0.6318124177361016"
      ]
     },
     "execution_count": 20,
     "metadata": {},
     "output_type": "execute_result"
    }
   ],
   "source": [
    "a_1_2 = 1/(1+exp(-z_1_2))\n",
    "a_1_2"
   ]
  },
  {
   "cell_type": "code",
   "execution_count": 21,
   "id": "51e8ad9c",
   "metadata": {},
   "outputs": [
    {
     "data": {
      "text/plain": [
       "0.754087450641661"
      ]
     },
     "execution_count": 21,
     "metadata": {},
     "output_type": "execute_result"
    }
   ],
   "source": [
    "z_2_1 = xx_1 * ww_5 + a_1_2 * ww_6 + bb_2\n",
    "z_2_1"
   ]
  },
  {
   "cell_type": "code",
   "execution_count": 22,
   "id": "8ed8929c",
   "metadata": {},
   "outputs": [
    {
     "data": {
      "text/plain": [
       "0.6800686811597189"
      ]
     },
     "execution_count": 22,
     "metadata": {},
     "output_type": "execute_result"
    }
   ],
   "source": [
    "a_2_2 = 1/(1+exp(-z_2_1))\n",
    "a_2_2"
   ]
  },
  {
   "cell_type": "code",
   "execution_count": 23,
   "id": "a783d8d0",
   "metadata": {},
   "outputs": [
    {
     "data": {
      "text/plain": [
       "1.0"
      ]
     },
     "execution_count": 23,
     "metadata": {},
     "output_type": "execute_result"
    }
   ],
   "source": [
    "tt_11 = 0.15\n",
    "tt_22 = 0.85\n",
    "ttot = tt_11 + tt_22\n",
    "ttot"
   ]
  },
  {
   "cell_type": "code",
   "execution_count": 24,
   "id": "aa488c52",
   "metadata": {},
   "outputs": [
    {
     "data": {
      "text/plain": [
       "0.10822956298900614"
      ]
     },
     "execution_count": 24,
     "metadata": {},
     "output_type": "execute_result"
    }
   ],
   "source": [
    "E = 1/2*((T-a_2)**2)\n",
    "E"
   ]
  },
  {
   "cell_type": "code",
   "execution_count": null,
   "id": "009814a5",
   "metadata": {},
   "outputs": [],
   "source": []
  },
  {
   "cell_type": "code",
   "execution_count": null,
   "id": "d6c1161d",
   "metadata": {},
   "outputs": [],
   "source": []
  }
 ],
 "metadata": {
  "kernelspec": {
   "display_name": "Python 3 (ipykernel)",
   "language": "python",
   "name": "python3"
  },
  "language_info": {
   "codemirror_mode": {
    "name": "ipython",
    "version": 3
   },
   "file_extension": ".py",
   "mimetype": "text/x-python",
   "name": "python",
   "nbconvert_exporter": "python",
   "pygments_lexer": "ipython3",
   "version": "3.10.9"
  }
 },
 "nbformat": 4,
 "nbformat_minor": 5
}
